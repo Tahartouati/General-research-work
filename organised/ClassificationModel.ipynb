{
 "cells": [
  {
   "cell_type": "code",
   "execution_count": 5,
   "metadata": {},
   "outputs": [],
   "source": [
    "import pandas as pd\n",
    "import numpy as np"
   ]
  },
  {
   "cell_type": "code",
   "execution_count": 6,
   "metadata": {},
   "outputs": [],
   "source": [
    "df = pd.read_csv('data/daytimemergedDF.csv')"
   ]
  },
  {
   "cell_type": "code",
   "execution_count": 7,
   "metadata": {},
   "outputs": [
    {
     "data": {
      "text/html": [
       "<div>\n",
       "<style scoped>\n",
       "    .dataframe tbody tr th:only-of-type {\n",
       "        vertical-align: middle;\n",
       "    }\n",
       "\n",
       "    .dataframe tbody tr th {\n",
       "        vertical-align: top;\n",
       "    }\n",
       "\n",
       "    .dataframe thead th {\n",
       "        text-align: right;\n",
       "    }\n",
       "</style>\n",
       "<table border=\"1\" class=\"dataframe\">\n",
       "  <thead>\n",
       "    <tr style=\"text-align: right;\">\n",
       "      <th></th>\n",
       "      <th>SEQN</th>\n",
       "      <th>intense</th>\n",
       "      <th>light</th>\n",
       "      <th>moderate</th>\n",
       "      <th>sedentary</th>\n",
       "      <th>BMXWT</th>\n",
       "      <th>BMXBMI</th>\n",
       "      <th>HUQ050</th>\n",
       "      <th>HUD080</th>\n",
       "      <th>HSQ470</th>\n",
       "      <th>...</th>\n",
       "      <th>FIAPROXY</th>\n",
       "      <th>FIAINTRP</th>\n",
       "      <th>MIALANG</th>\n",
       "      <th>MIAPROXY</th>\n",
       "      <th>MIAINTRP</th>\n",
       "      <th>AIALANG</th>\n",
       "      <th>WTINT2YR</th>\n",
       "      <th>WTMEC2YR</th>\n",
       "      <th>SDMVPSU</th>\n",
       "      <th>SDMVSTRA</th>\n",
       "    </tr>\n",
       "  </thead>\n",
       "  <tbody>\n",
       "    <tr>\n",
       "      <th>0</th>\n",
       "      <td>21005.0</td>\n",
       "      <td>3.000000</td>\n",
       "      <td>77.166667</td>\n",
       "      <td>26.200000</td>\n",
       "      <td>394.714286</td>\n",
       "      <td>137.6</td>\n",
       "      <td>50.85</td>\n",
       "      <td>3.0</td>\n",
       "      <td>9.0</td>\n",
       "      <td>2.082021</td>\n",
       "      <td>...</td>\n",
       "      <td>2.0</td>\n",
       "      <td>2.0</td>\n",
       "      <td>1.0</td>\n",
       "      <td>2.0</td>\n",
       "      <td>2.0</td>\n",
       "      <td>1.0</td>\n",
       "      <td>5512.320949</td>\n",
       "      <td>5824.782465</td>\n",
       "      <td>2.0</td>\n",
       "      <td>39.0</td>\n",
       "    </tr>\n",
       "    <tr>\n",
       "      <th>1</th>\n",
       "      <td>21006.0</td>\n",
       "      <td>0.000000</td>\n",
       "      <td>50.714286</td>\n",
       "      <td>3.200000</td>\n",
       "      <td>427.000000</td>\n",
       "      <td>55.2</td>\n",
       "      <td>20.78</td>\n",
       "      <td>2.0</td>\n",
       "      <td>2.0</td>\n",
       "      <td>2.000000</td>\n",
       "      <td>...</td>\n",
       "      <td>2.0</td>\n",
       "      <td>2.0</td>\n",
       "      <td>1.0</td>\n",
       "      <td>2.0</td>\n",
       "      <td>2.0</td>\n",
       "      <td>1.0</td>\n",
       "      <td>5422.140453</td>\n",
       "      <td>5564.039715</td>\n",
       "      <td>1.0</td>\n",
       "      <td>41.0</td>\n",
       "    </tr>\n",
       "    <tr>\n",
       "      <th>2</th>\n",
       "      <td>21007.0</td>\n",
       "      <td>2.666667</td>\n",
       "      <td>219.714286</td>\n",
       "      <td>26.000000</td>\n",
       "      <td>233.142857</td>\n",
       "      <td>47.9</td>\n",
       "      <td>18.43</td>\n",
       "      <td>2.0</td>\n",
       "      <td>2.0</td>\n",
       "      <td>2.082021</td>\n",
       "      <td>...</td>\n",
       "      <td>2.0</td>\n",
       "      <td>2.0</td>\n",
       "      <td>1.0</td>\n",
       "      <td>2.0</td>\n",
       "      <td>2.0</td>\n",
       "      <td>1.0</td>\n",
       "      <td>39764.177412</td>\n",
       "      <td>40591.066325</td>\n",
       "      <td>2.0</td>\n",
       "      <td>35.0</td>\n",
       "    </tr>\n",
       "    <tr>\n",
       "      <th>3</th>\n",
       "      <td>21008.0</td>\n",
       "      <td>2.000000</td>\n",
       "      <td>26.571429</td>\n",
       "      <td>8.333333</td>\n",
       "      <td>449.285714</td>\n",
       "      <td>70.0</td>\n",
       "      <td>20.65</td>\n",
       "      <td>2.0</td>\n",
       "      <td>2.0</td>\n",
       "      <td>2.082021</td>\n",
       "      <td>...</td>\n",
       "      <td>2.0</td>\n",
       "      <td>2.0</td>\n",
       "      <td>1.0</td>\n",
       "      <td>2.0</td>\n",
       "      <td>2.0</td>\n",
       "      <td>1.0</td>\n",
       "      <td>5599.499351</td>\n",
       "      <td>5696.750596</td>\n",
       "      <td>1.0</td>\n",
       "      <td>32.0</td>\n",
       "    </tr>\n",
       "    <tr>\n",
       "      <th>4</th>\n",
       "      <td>21009.0</td>\n",
       "      <td>1.000000</td>\n",
       "      <td>251.000000</td>\n",
       "      <td>42.000000</td>\n",
       "      <td>186.714286</td>\n",
       "      <td>103.1</td>\n",
       "      <td>31.26</td>\n",
       "      <td>3.0</td>\n",
       "      <td>0.0</td>\n",
       "      <td>2.082021</td>\n",
       "      <td>...</td>\n",
       "      <td>2.0</td>\n",
       "      <td>2.0</td>\n",
       "      <td>1.0</td>\n",
       "      <td>2.0</td>\n",
       "      <td>2.0</td>\n",
       "      <td>1.0</td>\n",
       "      <td>97593.678977</td>\n",
       "      <td>97731.727244</td>\n",
       "      <td>2.0</td>\n",
       "      <td>31.0</td>\n",
       "    </tr>\n",
       "  </tbody>\n",
       "</table>\n",
       "<p>5 rows × 126 columns</p>\n",
       "</div>"
      ],
      "text/plain": [
       "      SEQN   intense       light   moderate   sedentary  BMXWT  BMXBMI  \\\n",
       "0  21005.0  3.000000   77.166667  26.200000  394.714286  137.6   50.85   \n",
       "1  21006.0  0.000000   50.714286   3.200000  427.000000   55.2   20.78   \n",
       "2  21007.0  2.666667  219.714286  26.000000  233.142857   47.9   18.43   \n",
       "3  21008.0  2.000000   26.571429   8.333333  449.285714   70.0   20.65   \n",
       "4  21009.0  1.000000  251.000000  42.000000  186.714286  103.1   31.26   \n",
       "\n",
       "   HUQ050  HUD080    HSQ470  ...  FIAPROXY  FIAINTRP  MIALANG  MIAPROXY  \\\n",
       "0     3.0     9.0  2.082021  ...       2.0       2.0      1.0       2.0   \n",
       "1     2.0     2.0  2.000000  ...       2.0       2.0      1.0       2.0   \n",
       "2     2.0     2.0  2.082021  ...       2.0       2.0      1.0       2.0   \n",
       "3     2.0     2.0  2.082021  ...       2.0       2.0      1.0       2.0   \n",
       "4     3.0     0.0  2.082021  ...       2.0       2.0      1.0       2.0   \n",
       "\n",
       "   MIAINTRP  AIALANG      WTINT2YR      WTMEC2YR  SDMVPSU  SDMVSTRA  \n",
       "0       2.0      1.0   5512.320949   5824.782465      2.0      39.0  \n",
       "1       2.0      1.0   5422.140453   5564.039715      1.0      41.0  \n",
       "2       2.0      1.0  39764.177412  40591.066325      2.0      35.0  \n",
       "3       2.0      1.0   5599.499351   5696.750596      1.0      32.0  \n",
       "4       2.0      1.0  97593.678977  97731.727244      2.0      31.0  \n",
       "\n",
       "[5 rows x 126 columns]"
      ]
     },
     "execution_count": 7,
     "metadata": {},
     "output_type": "execute_result"
    }
   ],
   "source": [
    "df = df.drop(['Unnamed: 0'],axis=1)\n",
    "df.head()"
   ]
  },
  {
   "cell_type": "code",
   "execution_count": 8,
   "metadata": {},
   "outputs": [
    {
     "data": {
      "text/plain": [
       "[4.156199647385538, 15.332655730961264, 69.36805264984513]"
      ]
     },
     "execution_count": 8,
     "metadata": {},
     "output_type": "execute_result"
    }
   ],
   "source": [
    "intSTD = df['intense'].std()\n",
    "modSTD = df['moderate'].std()\n",
    "ligSTD = df['light'].std()\n",
    "intMEAN = df['intense'].mean()\n",
    "modMEAN = df['moderate'].mean()\n",
    "ligMEAN = df['light'].mean()\n",
    "[intSTD,modSTD,ligSTD]"
   ]
  },
  {
   "cell_type": "code",
   "execution_count": 14,
   "metadata": {},
   "outputs": [],
   "source": [
    "categories = []\n",
    "for index, row in df.iterrows():\n",
    "    if row['intense'] > intSTD*2 + intMEAN:\n",
    "            categories.append('intense')\n",
    "    elif row['moderate'] > modSTD + modMEAN:\n",
    "            categories.append('moderate')\n",
    "    elif row['light'] > ligSTD + ligMEAN:\n",
    "            categories.append('light')\n",
    "    else:\n",
    "            categories.append('sedentary')"
   ]
  },
  {
   "cell_type": "code",
   "execution_count": 15,
   "metadata": {},
   "outputs": [],
   "source": [
    "df['CAT'] = categories\n"
   ]
  },
  {
   "cell_type": "code",
   "execution_count": 17,
   "metadata": {},
   "outputs": [
    {
     "data": {
      "text/plain": [
       "(829, 127)"
      ]
     },
     "execution_count": 17,
     "metadata": {},
     "output_type": "execute_result"
    }
   ],
   "source": [
    "df[df['CAT'] == 'moderate'].shape"
   ]
  },
  {
   "cell_type": "code",
   "execution_count": 18,
   "metadata": {},
   "outputs": [],
   "source": [
    "df.to_csv('data/dayTimeClassDF.csv')"
   ]
  },
  {
   "cell_type": "code",
   "execution_count": 42,
   "metadata": {},
   "outputs": [],
   "source": [
    "intdf = df[df['CAT'] == 'intense']\n",
    "moddf = df[df['CAT'] == 'moderate']\n",
    "ligdf = df[df['CAT'] == 'light']\n",
    "seddf = df[df['CAT'] == 'sedentary']"
   ]
  },
  {
   "cell_type": "code",
   "execution_count": 43,
   "metadata": {},
   "outputs": [
    {
     "data": {
      "text/plain": [
       "(777, 95)"
      ]
     },
     "execution_count": 43,
     "metadata": {},
     "output_type": "execute_result"
    }
   ],
   "source": [
    "ligdf.shape"
   ]
  },
  {
   "cell_type": "code",
   "execution_count": 44,
   "metadata": {},
   "outputs": [],
   "source": [
    "intdf.to_csv('data/dayTimeIntense.csv')\n",
    "moddf.to_csv('data/dayTimeModerate.csv')\n",
    "ligdf.to_csv('data/dayTimeLight.csv')\n",
    "seddf.to_csv('data/dayTimeSedentary.csv')"
   ]
  },
  {
   "cell_type": "code",
   "execution_count": 23,
   "metadata": {},
   "outputs": [],
   "source": [
    "# importing necessary libraries \n",
    "from sklearn import datasets \n",
    "from sklearn.metrics import confusion_matrix \n",
    "from sklearn.model_selection import train_test_split "
   ]
  },
  {
   "cell_type": "code",
   "execution_count": 31,
   "metadata": {},
   "outputs": [
    {
     "data": {
      "text/plain": [
       "0"
      ]
     },
     "execution_count": 31,
     "metadata": {},
     "output_type": "execute_result"
    }
   ],
   "source": [
    "sum(pd.isnull(df['BMXWT']))"
   ]
  },
  {
   "cell_type": "code",
   "execution_count": 25,
   "metadata": {},
   "outputs": [],
   "source": [
    "for column in df:\n",
    "    if sum(pd.isnull(df[column])) > 67:\n",
    "        df.drop([column],axis=1,inplace = True)"
   ]
  },
  {
   "cell_type": "code",
   "execution_count": 26,
   "metadata": {},
   "outputs": [],
   "source": [
    "df = df[df.BMXWT.notnull()]\n",
    "df = df[df.BMXBMI.notnull()]\n",
    "df = df[df.DMDHRGND.notnull()]\n",
    "df = df[df.DMDHRAGE.notnull()]\n",
    "df = df[df.FIALANG.notnull()]\n",
    "df = df[df.FIAPROXY.notnull()]\n",
    "df = df[df.FIAINTRP.notnull()]"
   ]
  },
  {
   "cell_type": "code",
   "execution_count": 28,
   "metadata": {},
   "outputs": [
    {
     "data": {
      "text/html": [
       "<div>\n",
       "<style scoped>\n",
       "    .dataframe tbody tr th:only-of-type {\n",
       "        vertical-align: middle;\n",
       "    }\n",
       "\n",
       "    .dataframe tbody tr th {\n",
       "        vertical-align: top;\n",
       "    }\n",
       "\n",
       "    .dataframe thead th {\n",
       "        text-align: right;\n",
       "    }\n",
       "</style>\n",
       "<table border=\"1\" class=\"dataframe\">\n",
       "  <thead>\n",
       "    <tr style=\"text-align: right;\">\n",
       "      <th></th>\n",
       "      <th>SEQN</th>\n",
       "      <th>intense</th>\n",
       "      <th>light</th>\n",
       "      <th>moderate</th>\n",
       "      <th>sedentary</th>\n",
       "      <th>BMXWT</th>\n",
       "      <th>BMXBMI</th>\n",
       "      <th>HUQ050</th>\n",
       "      <th>HUD080</th>\n",
       "      <th>HSQ470</th>\n",
       "      <th>...</th>\n",
       "      <th>SIAPROXY</th>\n",
       "      <th>SIAINTRP</th>\n",
       "      <th>FIALANG</th>\n",
       "      <th>FIAPROXY</th>\n",
       "      <th>FIAINTRP</th>\n",
       "      <th>WTINT2YR</th>\n",
       "      <th>WTMEC2YR</th>\n",
       "      <th>SDMVPSU</th>\n",
       "      <th>SDMVSTRA</th>\n",
       "      <th>CAT</th>\n",
       "    </tr>\n",
       "  </thead>\n",
       "  <tbody>\n",
       "    <tr>\n",
       "      <th>0</th>\n",
       "      <td>21005.0</td>\n",
       "      <td>3.000000</td>\n",
       "      <td>77.166667</td>\n",
       "      <td>26.200000</td>\n",
       "      <td>394.714286</td>\n",
       "      <td>137.6</td>\n",
       "      <td>50.85</td>\n",
       "      <td>3.0</td>\n",
       "      <td>9.0</td>\n",
       "      <td>2.082021</td>\n",
       "      <td>...</td>\n",
       "      <td>2.0</td>\n",
       "      <td>2.0</td>\n",
       "      <td>1.0</td>\n",
       "      <td>2.0</td>\n",
       "      <td>2.0</td>\n",
       "      <td>5512.320949</td>\n",
       "      <td>5824.782465</td>\n",
       "      <td>2.0</td>\n",
       "      <td>39.0</td>\n",
       "      <td>sedentary</td>\n",
       "    </tr>\n",
       "    <tr>\n",
       "      <th>1</th>\n",
       "      <td>21006.0</td>\n",
       "      <td>0.000000</td>\n",
       "      <td>50.714286</td>\n",
       "      <td>3.200000</td>\n",
       "      <td>427.000000</td>\n",
       "      <td>55.2</td>\n",
       "      <td>20.78</td>\n",
       "      <td>2.0</td>\n",
       "      <td>2.0</td>\n",
       "      <td>2.000000</td>\n",
       "      <td>...</td>\n",
       "      <td>2.0</td>\n",
       "      <td>2.0</td>\n",
       "      <td>1.0</td>\n",
       "      <td>2.0</td>\n",
       "      <td>2.0</td>\n",
       "      <td>5422.140453</td>\n",
       "      <td>5564.039715</td>\n",
       "      <td>1.0</td>\n",
       "      <td>41.0</td>\n",
       "      <td>sedentary</td>\n",
       "    </tr>\n",
       "    <tr>\n",
       "      <th>2</th>\n",
       "      <td>21007.0</td>\n",
       "      <td>2.666667</td>\n",
       "      <td>219.714286</td>\n",
       "      <td>26.000000</td>\n",
       "      <td>233.142857</td>\n",
       "      <td>47.9</td>\n",
       "      <td>18.43</td>\n",
       "      <td>2.0</td>\n",
       "      <td>2.0</td>\n",
       "      <td>2.082021</td>\n",
       "      <td>...</td>\n",
       "      <td>1.0</td>\n",
       "      <td>2.0</td>\n",
       "      <td>1.0</td>\n",
       "      <td>2.0</td>\n",
       "      <td>2.0</td>\n",
       "      <td>39764.177412</td>\n",
       "      <td>40591.066325</td>\n",
       "      <td>2.0</td>\n",
       "      <td>35.0</td>\n",
       "      <td>light</td>\n",
       "    </tr>\n",
       "    <tr>\n",
       "      <th>3</th>\n",
       "      <td>21008.0</td>\n",
       "      <td>2.000000</td>\n",
       "      <td>26.571429</td>\n",
       "      <td>8.333333</td>\n",
       "      <td>449.285714</td>\n",
       "      <td>70.0</td>\n",
       "      <td>20.65</td>\n",
       "      <td>2.0</td>\n",
       "      <td>2.0</td>\n",
       "      <td>2.082021</td>\n",
       "      <td>...</td>\n",
       "      <td>2.0</td>\n",
       "      <td>2.0</td>\n",
       "      <td>1.0</td>\n",
       "      <td>2.0</td>\n",
       "      <td>2.0</td>\n",
       "      <td>5599.499351</td>\n",
       "      <td>5696.750596</td>\n",
       "      <td>1.0</td>\n",
       "      <td>32.0</td>\n",
       "      <td>sedentary</td>\n",
       "    </tr>\n",
       "    <tr>\n",
       "      <th>4</th>\n",
       "      <td>21009.0</td>\n",
       "      <td>1.000000</td>\n",
       "      <td>251.000000</td>\n",
       "      <td>42.000000</td>\n",
       "      <td>186.714286</td>\n",
       "      <td>103.1</td>\n",
       "      <td>31.26</td>\n",
       "      <td>3.0</td>\n",
       "      <td>0.0</td>\n",
       "      <td>2.082021</td>\n",
       "      <td>...</td>\n",
       "      <td>2.0</td>\n",
       "      <td>2.0</td>\n",
       "      <td>1.0</td>\n",
       "      <td>2.0</td>\n",
       "      <td>2.0</td>\n",
       "      <td>97593.678977</td>\n",
       "      <td>97731.727244</td>\n",
       "      <td>2.0</td>\n",
       "      <td>31.0</td>\n",
       "      <td>moderate</td>\n",
       "    </tr>\n",
       "  </tbody>\n",
       "</table>\n",
       "<p>5 rows × 95 columns</p>\n",
       "</div>"
      ],
      "text/plain": [
       "      SEQN   intense       light   moderate   sedentary  BMXWT  BMXBMI  \\\n",
       "0  21005.0  3.000000   77.166667  26.200000  394.714286  137.6   50.85   \n",
       "1  21006.0  0.000000   50.714286   3.200000  427.000000   55.2   20.78   \n",
       "2  21007.0  2.666667  219.714286  26.000000  233.142857   47.9   18.43   \n",
       "3  21008.0  2.000000   26.571429   8.333333  449.285714   70.0   20.65   \n",
       "4  21009.0  1.000000  251.000000  42.000000  186.714286  103.1   31.26   \n",
       "\n",
       "   HUQ050  HUD080    HSQ470  ...  SIAPROXY  SIAINTRP  FIALANG  FIAPROXY  \\\n",
       "0     3.0     9.0  2.082021  ...       2.0       2.0      1.0       2.0   \n",
       "1     2.0     2.0  2.000000  ...       2.0       2.0      1.0       2.0   \n",
       "2     2.0     2.0  2.082021  ...       1.0       2.0      1.0       2.0   \n",
       "3     2.0     2.0  2.082021  ...       2.0       2.0      1.0       2.0   \n",
       "4     3.0     0.0  2.082021  ...       2.0       2.0      1.0       2.0   \n",
       "\n",
       "   FIAINTRP      WTINT2YR      WTMEC2YR  SDMVPSU  SDMVSTRA        CAT  \n",
       "0       2.0   5512.320949   5824.782465      2.0      39.0  sedentary  \n",
       "1       2.0   5422.140453   5564.039715      1.0      41.0  sedentary  \n",
       "2       2.0  39764.177412  40591.066325      2.0      35.0      light  \n",
       "3       2.0   5599.499351   5696.750596      1.0      32.0  sedentary  \n",
       "4       2.0  97593.678977  97731.727244      2.0      31.0   moderate  \n",
       "\n",
       "[5 rows x 95 columns]"
      ]
     },
     "execution_count": 28,
     "metadata": {},
     "output_type": "execute_result"
    }
   ],
   "source": [
    "df.head()"
   ]
  },
  {
   "cell_type": "code",
   "execution_count": 29,
   "metadata": {},
   "outputs": [],
   "source": [
    "df.to_csv('data/dayTimeClassDF.csv')"
   ]
  },
  {
   "cell_type": "code",
   "execution_count": 30,
   "metadata": {},
   "outputs": [
    {
     "data": {
      "text/plain": [
       "SEQN         0\n",
       "intense      0\n",
       "light        0\n",
       "moderate     0\n",
       "sedentary    0\n",
       "BMXWT        0\n",
       "BMXBMI       0\n",
       "HUQ050       0\n",
       "HUD080       0\n",
       "HSQ470       0\n",
       "HSQ480       0\n",
       "HSQ490       0\n",
       "MCQ025       0\n",
       "MCQ180A      0\n",
       "MCQ180B      0\n",
       "MCQ180C      0\n",
       "MCQ180D      0\n",
       "MCQ180E      0\n",
       "MCQ180F      0\n",
       "MCQ180G      0\n",
       "MCQ180K      0\n",
       "MCQ180L      0\n",
       "MCQ180M      0\n",
       "DSDCOUNT     0\n",
       "DSDANCNT     0\n",
       "PAD320       0\n",
       "PAD590       0\n",
       "PAD600       0\n",
       "PAQ520       0\n",
       "PAQ540       0\n",
       "            ..\n",
       "MCQ220       0\n",
       "MCQ060       0\n",
       "MCQ170K      0\n",
       "MCQ040       0\n",
       "MCQ050       0\n",
       "MCQ053       0\n",
       "SDDSRVYR     0\n",
       "RIDSTATR     0\n",
       "RIDEXMON     0\n",
       "RIAGENDR     0\n",
       "RIDAGEYR     0\n",
       "RIDRETH1     0\n",
       "RIDRETH2     0\n",
       "DMDBORN      0\n",
       "DMDCITZN     0\n",
       "DMDEDUC      0\n",
       "DMDHHSIZ     0\n",
       "DMDHRGND     0\n",
       "DMDHRAGE     0\n",
       "SIALANG      0\n",
       "SIAPROXY     0\n",
       "SIAINTRP     0\n",
       "FIALANG      0\n",
       "FIAPROXY     0\n",
       "FIAINTRP     0\n",
       "WTINT2YR     0\n",
       "WTMEC2YR     0\n",
       "SDMVPSU      0\n",
       "SDMVSTRA     0\n",
       "CAT          0\n",
       "Length: 95, dtype: int64"
      ]
     },
     "execution_count": 30,
     "metadata": {},
     "output_type": "execute_result"
    }
   ],
   "source": [
    "df.isna().sum()"
   ]
  },
  {
   "cell_type": "code",
   "execution_count": 34,
   "metadata": {},
   "outputs": [],
   "source": [
    "Y = df[['CAT']]\n",
    "X = df.drop(['CAT'],axis = 1)"
   ]
  },
  {
   "cell_type": "code",
   "execution_count": 35,
   "metadata": {},
   "outputs": [],
   "source": [
    "X_train, X_test, y_train, y_test = train_test_split(X, Y, test_size=0.33, random_state=42)"
   ]
  },
  {
   "cell_type": "code",
   "execution_count": 36,
   "metadata": {},
   "outputs": [
    {
     "name": "stderr",
     "output_type": "stream",
     "text": [
      "//anaconda3/lib/python3.7/site-packages/sklearn/utils/validation.py:724: DataConversionWarning: A column-vector y was passed when a 1d array was expected. Please change the shape of y to (n_samples, ), for example using ravel().\n",
      "  y = column_or_1d(y, warn=True)\n"
     ]
    }
   ],
   "source": [
    "from sklearn.svm import SVC \n",
    "svm_model_linear = SVC(kernel = 'linear', C = 1).fit(X_train, y_train) \n",
    "svm_predictions = svm_model_linear.predict(X_test)"
   ]
  },
  {
   "cell_type": "code",
   "execution_count": 37,
   "metadata": {},
   "outputs": [],
   "source": [
    "accuracy = svm_model_linear.score(X_test, y_test)"
   ]
  },
  {
   "cell_type": "code",
   "execution_count": 63,
   "metadata": {},
   "outputs": [
    {
     "name": "stdout",
     "output_type": "stream",
     "text": [
      "0.9781718963165075\n"
     ]
    }
   ],
   "source": [
    "#old accuracy\n",
    "print(accuracy)"
   ]
  },
  {
   "cell_type": "code",
   "execution_count": 38,
   "metadata": {},
   "outputs": [
    {
     "name": "stdout",
     "output_type": "stream",
     "text": [
      "0.9731696225557072\n"
     ]
    }
   ],
   "source": [
    "#new accuracy\n",
    "print(accuracy)"
   ]
  },
  {
   "cell_type": "code",
   "execution_count": 40,
   "metadata": {},
   "outputs": [],
   "source": [
    "from sklearn.metrics import confusion_matrix"
   ]
  },
  {
   "cell_type": "code",
   "execution_count": 41,
   "metadata": {},
   "outputs": [
    {
     "data": {
      "text/plain": [
       "array([0.70588235, 0.96641791, 0.96923077, 0.98928121])"
      ]
     },
     "execution_count": 41,
     "metadata": {},
     "output_type": "execute_result"
    }
   ],
   "source": [
    "matrix = confusion_matrix(y_test, svm_predictions)\n",
    "matrix.diagonal()/matrix.sum(axis=1)"
   ]
  },
  {
   "cell_type": "code",
   "execution_count": null,
   "metadata": {},
   "outputs": [],
   "source": []
  }
 ],
 "metadata": {
  "kernelspec": {
   "display_name": "Python 3",
   "language": "python",
   "name": "python3"
  },
  "language_info": {
   "codemirror_mode": {
    "name": "ipython",
    "version": 3
   },
   "file_extension": ".py",
   "mimetype": "text/x-python",
   "name": "python",
   "nbconvert_exporter": "python",
   "pygments_lexer": "ipython3",
   "version": "3.7.3"
  }
 },
 "nbformat": 4,
 "nbformat_minor": 2
}
