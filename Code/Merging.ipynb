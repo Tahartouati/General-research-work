{
 "cells": [
  {
   "cell_type": "code",
   "execution_count": 11,
   "metadata": {},
   "outputs": [],
   "source": [
    "import xport\n",
    "import numpy as np\n",
    "import os\n",
    "\n",
    "\"\"\"\n",
    "Read five NHANES data files and merge them into a 2d array.\n",
    "\n",
    "These values can be exported:\n",
    "\n",
    "Z : an array of the data, with rows corresponding to subjects, and\n",
    "    columns corresponding to variables\n",
    "\n",
    "VN : an array of variable names, in 1-1 correspondence with the\n",
    "     columns of Z; the variable names consist of the file name,\n",
    "     followed by a \":\", followed by the variable name\n",
    "\n",
    "KY : the sequence numbers (subject identifiers), in 1-1 correspondence \n",
    "     with the rows of Z\n",
    "\"\"\"\n",
    "\n",
    "## Data file names (the files are in ../Data)\n",
    "FN = [\"PAQ_I.xpt\",\"PFQ_I.xpt\"]"
   ]
  },
  {
   "cell_type": "code",
   "execution_count": 17,
   "metadata": {},
   "outputs": [],
   "source": [
    "def get_data(fname):\n",
    "    \"\"\" \n",
    "    Place all the data in the file `fname` into a dictionary indexed \n",
    "    by sequence number.\n",
    "\n",
    "    Arguments:\n",
    "    ----------\n",
    "    fname : The file name of the data\n",
    "\n",
    "    Returns:\n",
    "    --------\n",
    "    Z : A dictionary mapping the sequence numbers to lists of data values\n",
    "    H : The names of the variables, in the order they appear in Z\n",
    "    \"\"\"\n",
    "\n",
    "    ## The data, indexed by sequence number\n",
    "    Z = {}\n",
    "\n",
    "    ## The variable names, in the order they appear in values of Z.\n",
    "    H = None\n",
    "\n",
    "    with xport.XportReader(fname) as reader:\n",
    "        for row in reader:\n",
    "\n",
    "            ## Get the variable names from the first record\n",
    "            if H is None:\n",
    "                H = row.keys()\n",
    "                H.remove(\"SEQN\")\n",
    "                H.sort()\n",
    "\n",
    "            Z[row[\"SEQN\"]] = [row[k] for k in H]\n",
    "\n",
    "    return Z,H"
   ]
  },
  {
   "cell_type": "code",
   "execution_count": 18,
   "metadata": {},
   "outputs": [
    {
     "ename": "AttributeError",
     "evalue": "module 'xport' has no attribute 'XportReader'",
     "output_type": "error",
     "traceback": [
      "\u001b[0;31m---------------------------------------------------------------------------\u001b[0m",
      "\u001b[0;31mAttributeError\u001b[0m                            Traceback (most recent call last)",
      "\u001b[0;32m<ipython-input-18-63788eb40957>\u001b[0m in \u001b[0;36m<module>\u001b[0;34m\u001b[0m\n\u001b[1;32m      3\u001b[0m \u001b[0;32mfor\u001b[0m \u001b[0mfn\u001b[0m \u001b[0;32min\u001b[0m \u001b[0mFN\u001b[0m\u001b[0;34m:\u001b[0m\u001b[0;34m\u001b[0m\u001b[0;34m\u001b[0m\u001b[0m\n\u001b[1;32m      4\u001b[0m     \u001b[0mfn_full\u001b[0m \u001b[0;34m=\u001b[0m \u001b[0mos\u001b[0m\u001b[0;34m.\u001b[0m\u001b[0mpath\u001b[0m\u001b[0;34m.\u001b[0m\u001b[0mjoin\u001b[0m\u001b[0;34m(\u001b[0m\u001b[0;34m\"../Data/\"\u001b[0m\u001b[0;34m,\u001b[0m \u001b[0mfn\u001b[0m\u001b[0;34m)\u001b[0m\u001b[0;34m\u001b[0m\u001b[0;34m\u001b[0m\u001b[0m\n\u001b[0;32m----> 5\u001b[0;31m     \u001b[0mX\u001b[0m\u001b[0;34m,\u001b[0m\u001b[0mH\u001b[0m \u001b[0;34m=\u001b[0m \u001b[0mget_data\u001b[0m\u001b[0;34m(\u001b[0m\u001b[0mfn_full\u001b[0m\u001b[0;34m)\u001b[0m\u001b[0;34m\u001b[0m\u001b[0;34m\u001b[0m\u001b[0m\n\u001b[0m\u001b[1;32m      6\u001b[0m     \u001b[0ms\u001b[0m \u001b[0;34m=\u001b[0m \u001b[0mfn\u001b[0m\u001b[0;34m.\u001b[0m\u001b[0mreplace\u001b[0m\u001b[0;34m(\u001b[0m\u001b[0;34m\".XPT\"\u001b[0m\u001b[0;34m,\u001b[0m \u001b[0;34m\"\"\u001b[0m\u001b[0;34m)\u001b[0m\u001b[0;34m\u001b[0m\u001b[0;34m\u001b[0m\u001b[0m\n\u001b[1;32m      7\u001b[0m     \u001b[0mH\u001b[0m \u001b[0;34m=\u001b[0m \u001b[0;34m[\u001b[0m\u001b[0ms\u001b[0m \u001b[0;34m+\u001b[0m \u001b[0;34m\":\"\u001b[0m \u001b[0;34m+\u001b[0m \u001b[0mx\u001b[0m \u001b[0;32mfor\u001b[0m \u001b[0mx\u001b[0m \u001b[0;32min\u001b[0m \u001b[0mH\u001b[0m\u001b[0;34m]\u001b[0m\u001b[0;34m\u001b[0m\u001b[0;34m\u001b[0m\u001b[0m\n",
      "\u001b[0;32m<ipython-input-17-16937cc62666>\u001b[0m in \u001b[0;36mget_data\u001b[0;34m(fname)\u001b[0m\n\u001b[1;32m     20\u001b[0m     \u001b[0mH\u001b[0m \u001b[0;34m=\u001b[0m \u001b[0;32mNone\u001b[0m\u001b[0;34m\u001b[0m\u001b[0;34m\u001b[0m\u001b[0m\n\u001b[1;32m     21\u001b[0m \u001b[0;34m\u001b[0m\u001b[0m\n\u001b[0;32m---> 22\u001b[0;31m     \u001b[0;32mwith\u001b[0m \u001b[0mxport\u001b[0m\u001b[0;34m.\u001b[0m\u001b[0mXportReader\u001b[0m\u001b[0;34m(\u001b[0m\u001b[0mfname\u001b[0m\u001b[0;34m)\u001b[0m \u001b[0;32mas\u001b[0m \u001b[0mreader\u001b[0m\u001b[0;34m:\u001b[0m\u001b[0;34m\u001b[0m\u001b[0;34m\u001b[0m\u001b[0m\n\u001b[0m\u001b[1;32m     23\u001b[0m         \u001b[0;32mfor\u001b[0m \u001b[0mrow\u001b[0m \u001b[0;32min\u001b[0m \u001b[0mreader\u001b[0m\u001b[0;34m:\u001b[0m\u001b[0;34m\u001b[0m\u001b[0;34m\u001b[0m\u001b[0m\n\u001b[1;32m     24\u001b[0m \u001b[0;34m\u001b[0m\u001b[0m\n",
      "\u001b[0;31mAttributeError\u001b[0m: module 'xport' has no attribute 'XportReader'"
     ]
    }
   ],
   "source": [
    "## Read all the data files\n",
    "D,VN = [],[]\n",
    "for fn in FN:\n",
    "    fn_full = os.path.join(\"../Data/\", fn)\n",
    "    X,H = get_data(fn_full)\n",
    "    s = fn.replace(\".XPT\", \"\")\n",
    "    H = [s + \":\" + x for x in H]\n",
    "    D.append(X)\n",
    "    VN += H"
   ]
  },
  {
   "cell_type": "code",
   "execution_count": null,
   "metadata": {},
   "outputs": [],
   "source": []
  }
 ],
 "metadata": {
  "kernelspec": {
   "display_name": "Python 3",
   "language": "python",
   "name": "python3"
  },
  "language_info": {
   "codemirror_mode": {
    "name": "ipython",
    "version": 3
   },
   "file_extension": ".py",
   "mimetype": "text/x-python",
   "name": "python",
   "nbconvert_exporter": "python",
   "pygments_lexer": "ipython3",
   "version": "3.7.3"
  }
 },
 "nbformat": 4,
 "nbformat_minor": 2
}
