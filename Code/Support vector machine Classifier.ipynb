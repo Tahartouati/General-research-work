{
 "cells": [
  {
   "cell_type": "code",
   "execution_count": 1,
   "metadata": {},
   "outputs": [],
   "source": [
    "# importing necessary libraries \n",
    "from sklearn import datasets \n",
    "from sklearn.metrics import confusion_matrix \n",
    "from sklearn.model_selection import train_test_split \n",
    "import pandas as pd\n",
    "import numpy as np"
   ]
  },
  {
   "cell_type": "code",
   "execution_count": 2,
   "metadata": {},
   "outputs": [],
   "source": [
    "XY1 = pd.read_csv('PFQ061B.csv')"
   ]
  },
  {
   "cell_type": "code",
   "execution_count": 3,
   "metadata": {},
   "outputs": [
    {
     "data": {
      "text/html": [
       "<div>\n",
       "<style scoped>\n",
       "    .dataframe tbody tr th:only-of-type {\n",
       "        vertical-align: middle;\n",
       "    }\n",
       "\n",
       "    .dataframe tbody tr th {\n",
       "        vertical-align: top;\n",
       "    }\n",
       "\n",
       "    .dataframe thead th {\n",
       "        text-align: right;\n",
       "    }\n",
       "</style>\n",
       "<table border=\"1\" class=\"dataframe\">\n",
       "  <thead>\n",
       "    <tr style=\"text-align: right;\">\n",
       "      <th></th>\n",
       "      <th>Unnamed: 0</th>\n",
       "      <th>Unnamed: 0.1</th>\n",
       "      <th>PFQ061B</th>\n",
       "      <th>PAD680</th>\n",
       "      <th>HUD080</th>\n",
       "      <th>HSQ470</th>\n",
       "      <th>HSQ490</th>\n",
       "      <th>HSQ493</th>\n",
       "      <th>HSQ496</th>\n",
       "      <th>MCQ180A</th>\n",
       "      <th>...</th>\n",
       "      <th>MCQ180F</th>\n",
       "      <th>MCQ180K</th>\n",
       "      <th>HUQ010</th>\n",
       "      <th>HUQ050</th>\n",
       "      <th>HUQ060</th>\n",
       "      <th>DPQ010</th>\n",
       "      <th>DPQ030</th>\n",
       "      <th>DPQ040</th>\n",
       "      <th>DPQ050</th>\n",
       "      <th>DPQ080</th>\n",
       "    </tr>\n",
       "  </thead>\n",
       "  <tbody>\n",
       "    <tr>\n",
       "      <th>0</th>\n",
       "      <td>0</td>\n",
       "      <td>850</td>\n",
       "      <td>1.0</td>\n",
       "      <td>300.0</td>\n",
       "      <td>1.451001</td>\n",
       "      <td>0.000000</td>\n",
       "      <td>0.000000</td>\n",
       "      <td>0.000000</td>\n",
       "      <td>0.000000</td>\n",
       "      <td>50.460784</td>\n",
       "      <td>...</td>\n",
       "      <td>57.290179</td>\n",
       "      <td>34.595745</td>\n",
       "      <td>1.0</td>\n",
       "      <td>2.0</td>\n",
       "      <td>3.0</td>\n",
       "      <td>0.0</td>\n",
       "      <td>0.0</td>\n",
       "      <td>0.0</td>\n",
       "      <td>0.0</td>\n",
       "      <td>0.0</td>\n",
       "    </tr>\n",
       "    <tr>\n",
       "      <th>1</th>\n",
       "      <td>1</td>\n",
       "      <td>985</td>\n",
       "      <td>3.0</td>\n",
       "      <td>540.0</td>\n",
       "      <td>1.451001</td>\n",
       "      <td>30.000000</td>\n",
       "      <td>30.000000</td>\n",
       "      <td>0.000000</td>\n",
       "      <td>0.000000</td>\n",
       "      <td>80.000000</td>\n",
       "      <td>...</td>\n",
       "      <td>57.290179</td>\n",
       "      <td>34.595745</td>\n",
       "      <td>5.0</td>\n",
       "      <td>5.0</td>\n",
       "      <td>3.0</td>\n",
       "      <td>0.0</td>\n",
       "      <td>0.0</td>\n",
       "      <td>0.0</td>\n",
       "      <td>0.0</td>\n",
       "      <td>0.0</td>\n",
       "    </tr>\n",
       "    <tr>\n",
       "      <th>2</th>\n",
       "      <td>2</td>\n",
       "      <td>1051</td>\n",
       "      <td>1.0</td>\n",
       "      <td>300.0</td>\n",
       "      <td>1.451001</td>\n",
       "      <td>2.000000</td>\n",
       "      <td>0.000000</td>\n",
       "      <td>30.000000</td>\n",
       "      <td>30.000000</td>\n",
       "      <td>50.000000</td>\n",
       "      <td>...</td>\n",
       "      <td>57.290179</td>\n",
       "      <td>34.595745</td>\n",
       "      <td>4.0</td>\n",
       "      <td>4.0</td>\n",
       "      <td>3.0</td>\n",
       "      <td>0.0</td>\n",
       "      <td>3.0</td>\n",
       "      <td>0.0</td>\n",
       "      <td>0.0</td>\n",
       "      <td>0.0</td>\n",
       "    </tr>\n",
       "    <tr>\n",
       "      <th>3</th>\n",
       "      <td>3</td>\n",
       "      <td>1110</td>\n",
       "      <td>1.0</td>\n",
       "      <td>180.0</td>\n",
       "      <td>1.451001</td>\n",
       "      <td>3.438531</td>\n",
       "      <td>1.835656</td>\n",
       "      <td>2.972137</td>\n",
       "      <td>5.081421</td>\n",
       "      <td>50.460784</td>\n",
       "      <td>...</td>\n",
       "      <td>57.290179</td>\n",
       "      <td>34.595745</td>\n",
       "      <td>2.0</td>\n",
       "      <td>5.0</td>\n",
       "      <td>3.0</td>\n",
       "      <td>0.0</td>\n",
       "      <td>0.0</td>\n",
       "      <td>0.0</td>\n",
       "      <td>0.0</td>\n",
       "      <td>0.0</td>\n",
       "    </tr>\n",
       "    <tr>\n",
       "      <th>4</th>\n",
       "      <td>4</td>\n",
       "      <td>1394</td>\n",
       "      <td>1.0</td>\n",
       "      <td>360.0</td>\n",
       "      <td>1.451001</td>\n",
       "      <td>3.438531</td>\n",
       "      <td>1.835656</td>\n",
       "      <td>2.972137</td>\n",
       "      <td>5.081421</td>\n",
       "      <td>50.460784</td>\n",
       "      <td>...</td>\n",
       "      <td>57.290179</td>\n",
       "      <td>34.595745</td>\n",
       "      <td>3.0</td>\n",
       "      <td>2.0</td>\n",
       "      <td>3.0</td>\n",
       "      <td>0.0</td>\n",
       "      <td>0.0</td>\n",
       "      <td>0.0</td>\n",
       "      <td>0.0</td>\n",
       "      <td>0.0</td>\n",
       "    </tr>\n",
       "  </tbody>\n",
       "</table>\n",
       "<p>5 rows × 24 columns</p>\n",
       "</div>"
      ],
      "text/plain": [
       "   Unnamed: 0  Unnamed: 0.1  PFQ061B  PAD680    HUD080     HSQ470     HSQ490  \\\n",
       "0           0           850      1.0   300.0  1.451001   0.000000   0.000000   \n",
       "1           1           985      3.0   540.0  1.451001  30.000000  30.000000   \n",
       "2           2          1051      1.0   300.0  1.451001   2.000000   0.000000   \n",
       "3           3          1110      1.0   180.0  1.451001   3.438531   1.835656   \n",
       "4           4          1394      1.0   360.0  1.451001   3.438531   1.835656   \n",
       "\n",
       "      HSQ493     HSQ496    MCQ180A  ...    MCQ180F    MCQ180K  HUQ010  HUQ050  \\\n",
       "0   0.000000   0.000000  50.460784  ...  57.290179  34.595745     1.0     2.0   \n",
       "1   0.000000   0.000000  80.000000  ...  57.290179  34.595745     5.0     5.0   \n",
       "2  30.000000  30.000000  50.000000  ...  57.290179  34.595745     4.0     4.0   \n",
       "3   2.972137   5.081421  50.460784  ...  57.290179  34.595745     2.0     5.0   \n",
       "4   2.972137   5.081421  50.460784  ...  57.290179  34.595745     3.0     2.0   \n",
       "\n",
       "   HUQ060  DPQ010  DPQ030  DPQ040  DPQ050  DPQ080  \n",
       "0     3.0     0.0     0.0     0.0     0.0     0.0  \n",
       "1     3.0     0.0     0.0     0.0     0.0     0.0  \n",
       "2     3.0     0.0     3.0     0.0     0.0     0.0  \n",
       "3     3.0     0.0     0.0     0.0     0.0     0.0  \n",
       "4     3.0     0.0     0.0     0.0     0.0     0.0  \n",
       "\n",
       "[5 rows x 24 columns]"
      ]
     },
     "execution_count": 3,
     "metadata": {},
     "output_type": "execute_result"
    }
   ],
   "source": [
    "XY1.head()"
   ]
  },
  {
   "cell_type": "code",
   "execution_count": 4,
   "metadata": {},
   "outputs": [],
   "source": [
    "X = XY1.drop(['PFQ061B','Unnamed: 0'],axis = 1)\n",
    "Y = XY1[['PFQ061B']]"
   ]
  },
  {
   "cell_type": "code",
   "execution_count": 5,
   "metadata": {},
   "outputs": [],
   "source": [
    "X_train, X_test, y_train, y_test = train_test_split(X, Y, test_size=0.33, random_state=42)"
   ]
  },
  {
   "cell_type": "code",
   "execution_count": 6,
   "metadata": {},
   "outputs": [
    {
     "name": "stderr",
     "output_type": "stream",
     "text": [
      "//anaconda3/lib/python3.7/site-packages/sklearn/utils/validation.py:724: DataConversionWarning: A column-vector y was passed when a 1d array was expected. Please change the shape of y to (n_samples, ), for example using ravel().\n",
      "  y = column_or_1d(y, warn=True)\n"
     ]
    }
   ],
   "source": [
    "from sklearn.svm import SVC \n",
    "svm_model_linear = SVC(kernel = 'linear', C = 1).fit(X_train, y_train) \n",
    "svm_predictions = svm_model_linear.predict(X_test)"
   ]
  },
  {
   "cell_type": "code",
   "execution_count": 7,
   "metadata": {},
   "outputs": [],
   "source": [
    "accuracy = svm_model_linear.score(X_test, y_test) "
   ]
  },
  {
   "cell_type": "code",
   "execution_count": 8,
   "metadata": {},
   "outputs": [
    {
     "name": "stdout",
     "output_type": "stream",
     "text": [
      "0.7603174603174603\n"
     ]
    }
   ],
   "source": [
    "print(accuracy)"
   ]
  },
  {
   "cell_type": "code",
   "execution_count": null,
   "metadata": {},
   "outputs": [],
   "source": [
    "print(accuracy)"
   ]
  }
 ],
 "metadata": {
  "kernelspec": {
   "display_name": "Python 3",
   "language": "python",
   "name": "python3"
  },
  "language_info": {
   "codemirror_mode": {
    "name": "ipython",
    "version": 3
   },
   "file_extension": ".py",
   "mimetype": "text/x-python",
   "name": "python",
   "nbconvert_exporter": "python",
   "pygments_lexer": "ipython3",
   "version": "3.7.3"
  }
 },
 "nbformat": 4,
 "nbformat_minor": 2
}
